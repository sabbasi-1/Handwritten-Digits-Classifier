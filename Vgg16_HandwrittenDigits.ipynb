{
  "nbformat": 4,
  "nbformat_minor": 0,
  "metadata": {
    "colab": {
      "provenance": []
    },
    "kernelspec": {
      "name": "python3",
      "display_name": "Python 3"
    },
    "language_info": {
      "name": "python"
    }
  },
  "cells": [
    {
      "cell_type": "code",
      "execution_count": null,
      "metadata": {
        "id": "UUNsjW8p-Zqd"
      },
      "outputs": [],
      "source": [
        "!cp -r /content/drive/MyDrive/DATA/9.zip /content"
      ]
    },
    {
      "cell_type": "code",
      "source": [
        "import zipfile"
      ],
      "metadata": {
        "id": "gF3vOfA6XRA2"
      },
      "execution_count": null,
      "outputs": []
    },
    {
      "cell_type": "code",
      "source": [
        "with zipfile.ZipFile('/content/8.zip', 'r') as zip_ref:\n",
        "    zip_ref.extractall('/content/DATA')\n"
      ],
      "metadata": {
        "id": "qOEKGkFnXoll"
      },
      "execution_count": null,
      "outputs": []
    },
    {
      "cell_type": "code",
      "source": [
        "import torch\n",
        "import torchvision\n",
        "from torchvision import datasets as dd\n",
        "from torchvision import transforms as tt\n",
        "from torch.utils.data import DataLoader,random_split\n",
        "from torchvision.datasets import ImageFolder\n"
      ],
      "metadata": {
        "id": "i9nXjsGyY8Bu"
      },
      "execution_count": null,
      "outputs": []
    },
    {
      "cell_type": "code",
      "source": [
        "transform=tt.Compose([tt.ToTensor(),tt.Resize((60,60))])"
      ],
      "metadata": {
        "id": "T4KZIrTjaCij"
      },
      "execution_count": null,
      "outputs": []
    },
    {
      "cell_type": "code",
      "source": [
        "data=ImageFolder(\"/content/DATA\", transform=transform)"
      ],
      "metadata": {
        "id": "OjhM0KDOacxw"
      },
      "execution_count": null,
      "outputs": []
    },
    {
      "cell_type": "code",
      "source": [
        "train_size=int(0.8*len(data))\n",
        "val_size=len(data)-train_size"
      ],
      "metadata": {
        "id": "0SEVRjESapFm"
      },
      "execution_count": null,
      "outputs": []
    },
    {
      "cell_type": "code",
      "source": [
        "val_size"
      ],
      "metadata": {
        "colab": {
          "base_uri": "https://localhost:8080/"
        },
        "id": "55VFSLK6a_eJ",
        "outputId": "725bd5f2-0eee-4953-af46-e09e2647b216"
      },
      "execution_count": null,
      "outputs": [
        {
          "output_type": "execute_result",
          "data": {
            "text/plain": [
              "42660"
            ]
          },
          "metadata": {},
          "execution_count": 32
        }
      ]
    },
    {
      "cell_type": "code",
      "source": [
        "train_dataset, val_dataset = random_split(data, [train_size, val_size])"
      ],
      "metadata": {
        "id": "ynuT53J3av2d"
      },
      "execution_count": null,
      "outputs": []
    },
    {
      "cell_type": "code",
      "source": [
        "train_size"
      ],
      "metadata": {
        "colab": {
          "base_uri": "https://localhost:8080/"
        },
        "id": "AiFgu0GOi8Cd",
        "outputId": "a99abeac-9ce1-4366-c725-024deee33635"
      },
      "execution_count": null,
      "outputs": [
        {
          "output_type": "execute_result",
          "data": {
            "text/plain": [
              "170636"
            ]
          },
          "metadata": {},
          "execution_count": 34
        }
      ]
    },
    {
      "cell_type": "code",
      "source": [
        "train_d=DataLoader(train_dataset,batch_size=32,shuffle=False)"
      ],
      "metadata": {
        "id": "OG__Aqd7a1BP"
      },
      "execution_count": null,
      "outputs": []
    },
    {
      "cell_type": "code",
      "source": [
        "valid_d=DataLoader(val_dataset,batch_size=128,shuffle=False)"
      ],
      "metadata": {
        "id": "Xfr-k-lxbqM0"
      },
      "execution_count": null,
      "outputs": []
    },
    {
      "cell_type": "code",
      "source": [
        "import torch.nn as nn\n",
        "import torchvision.models as models"
      ],
      "metadata": {
        "id": "2QobnzP5cwbV"
      },
      "execution_count": null,
      "outputs": []
    },
    {
      "cell_type": "code",
      "source": [
        "model=models.vgg16_bn(pretrained=False)"
      ],
      "metadata": {
        "colab": {
          "base_uri": "https://localhost:8080/"
        },
        "id": "Lg9puXRWfdnJ",
        "outputId": "2528df8e-54b3-4b94-b111-d56be26d70e1"
      },
      "execution_count": null,
      "outputs": [
        {
          "output_type": "stream",
          "name": "stderr",
          "text": [
            "/usr/local/lib/python3.10/dist-packages/torchvision/models/_utils.py:208: UserWarning: The parameter 'pretrained' is deprecated since 0.13 and may be removed in the future, please use 'weights' instead.\n",
            "  warnings.warn(\n",
            "/usr/local/lib/python3.10/dist-packages/torchvision/models/_utils.py:223: UserWarning: Arguments other than a weight enum or `None` for 'weights' are deprecated since 0.13 and may be removed in the future. The current behavior is equivalent to passing `weights=None`.\n",
            "  warnings.warn(msg)\n"
          ]
        }
      ]
    },
    {
      "cell_type": "code",
      "source": [
        "device = torch.device(\"cuda\" if torch.cuda.is_available() else \"cpu\")\n",
        "device"
      ],
      "metadata": {
        "colab": {
          "base_uri": "https://localhost:8080/"
        },
        "id": "gBATpcZqfnYj",
        "outputId": "b94b8bb4-813f-4c6d-cacb-f012cea5191c"
      },
      "execution_count": null,
      "outputs": [
        {
          "output_type": "execute_result",
          "data": {
            "text/plain": [
              "device(type='cuda')"
            ]
          },
          "metadata": {},
          "execution_count": 39
        }
      ]
    },
    {
      "cell_type": "code",
      "source": [
        "model.classifier[6]=nn.Linear(in_features=4096, out_features=12)"
      ],
      "metadata": {
        "id": "-0EhMHNSgUj5"
      },
      "execution_count": null,
      "outputs": []
    },
    {
      "cell_type": "code",
      "source": [
        "model"
      ],
      "metadata": {
        "id": "c9g8WIpXgZgf"
      },
      "execution_count": null,
      "outputs": []
    },
    {
      "cell_type": "code",
      "source": [
        "model.to(device)"
      ],
      "metadata": {
        "id": "lWqvn-APglIO"
      },
      "execution_count": null,
      "outputs": []
    },
    {
      "cell_type": "code",
      "source": [
        "from tqdm import tqdm"
      ],
      "metadata": {
        "id": "QBNfHXD1kv7j"
      },
      "execution_count": null,
      "outputs": []
    },
    {
      "cell_type": "code",
      "source": [
        "import torch.nn.functional as F\n",
        "import torch.optim as opt\n",
        "lr=1e-4\n",
        "num_epochs=2\n",
        "optimizer=opt.Adam(model.parameters(),lr)\n",
        "loss_f=nn.CrossEntropyLoss()\n",
        "\n"
      ],
      "metadata": {
        "id": "heqyO5WFgqwe"
      },
      "execution_count": null,
      "outputs": []
    },
    {
      "cell_type": "code",
      "source": [
        "cd drive/MyDrive/"
      ],
      "metadata": {
        "colab": {
          "base_uri": "https://localhost:8080/"
        },
        "id": "cY_usVp-lDuf",
        "outputId": "ce50023a-7213-4953-b35c-0f8b50190e38"
      },
      "execution_count": null,
      "outputs": [
        {
          "output_type": "stream",
          "name": "stdout",
          "text": [
            "/content/drive/MyDrive\n"
          ]
        }
      ]
    },
    {
      "cell_type": "code",
      "source": [
        "\n",
        "check_dir='/content/drive/MyDrive/MODEL'\n",
        "!cd /content/drive/MyDrive/MODEL"
      ],
      "metadata": {
        "id": "olidGQt5lHRN"
      },
      "execution_count": null,
      "outputs": []
    },
    {
      "cell_type": "code",
      "source": [
        "pwd"
      ],
      "metadata": {
        "colab": {
          "base_uri": "https://localhost:8080/",
          "height": 36
        },
        "id": "7mqK6kgguVVY",
        "outputId": "c30bdeeb-c689-483c-e20b-b66cf280485a"
      },
      "execution_count": null,
      "outputs": [
        {
          "output_type": "execute_result",
          "data": {
            "text/plain": [
              "'/content/drive/MyDrive'"
            ],
            "application/vnd.google.colaboratory.intrinsic+json": {
              "type": "string"
            }
          },
          "metadata": {},
          "execution_count": 54
        }
      ]
    },
    {
      "cell_type": "code",
      "source": [
        "for epoch in range(num_epochs):\n",
        "  losses=[]\n",
        "  for batch_idx, (data,targets) in enumerate(tqdm(train_d)):\n",
        "    data=data.to(device=device)\n",
        "    targets=targets.to(device=device)\n",
        "    scores=model(data)\n",
        "    loss=loss_f(scores,targets)\n",
        "\n",
        "    losses.append(loss.item())\n",
        "    optimizer.zero_grad()\n",
        "    loss.backward()\n",
        "    optimizer.step()\n",
        "  print(f\"Cost at epoch {epoch} is {sum(losses)/len(losses):.5f}\")\n",
        "  checkpoint_file = f'{check_dir}checkpoint_epoch{epoch}.pt'\n",
        "  checkpoint_file1 = f'{check_dir}checkpoint_epoch{epoch}.pt'\n",
        "  torch.save(model.state_dict(),checkpoint_file)\n",
        "  torch.save(model,checkpoint_file1)\n",
        "def check_accuracy(loader, model):\n",
        "    #if loader.dataset.train:\n",
        "    #    print(\"Checking accuracy on training data\")\n",
        "    #else:\n",
        "    #    print(\"Checking accuracy on test data\")\n",
        "\n",
        "    num_correct = 0\n",
        "    num_samples = 0\n",
        "    model.eval()\n",
        "\n",
        "    with torch.no_grad():\n",
        "        for x, y in loader:\n",
        "            x = x.to(device=device)\n",
        "            y = y.to(device=device)\n",
        "\n",
        "            scores = model(x)\n",
        "            _, predictions = scores.max(1)\n",
        "            num_correct += (predictions == y).sum()\n",
        "            num_samples += predictions.size(0)\n",
        "\n",
        "        print(\n",
        "            f\"Got {num_correct} / {num_samples} with accuracy {float(num_correct)/float(num_samples)*100:.2f}\"\n",
        "        )\n",
        "\n",
        "    model.train()\n",
        "\n",
        "\n",
        "check_accuracy(valid_d, model)"
      ],
      "metadata": {
        "colab": {
          "base_uri": "https://localhost:8080/"
        },
        "id": "BXDon2B3hgSZ",
        "outputId": "3cac539e-07f8-40b9-aa89-3090275644d0"
      },
      "execution_count": null,
      "outputs": [
        {
          "output_type": "stream",
          "name": "stderr",
          "text": [
            "\r  0%|          | 0/5333 [00:00<?, ?it/s]/usr/local/lib/python3.10/dist-packages/torchvision/transforms/functional.py:1603: UserWarning: The default value of the antialias parameter of all the resizing transforms (Resize(), RandomResizedCrop(), etc.) will change from None to True in v0.17, in order to be consistent across the PIL and Tensor backends. To suppress this warning, directly pass antialias=True (recommended, future default), antialias=None (current default, which means False for Tensors and True for PIL), or antialias=False (only works on Tensors - PIL will still use antialiasing). This also applies if you are using the inference transforms from the models weights: update the call to weights.transforms(antialias=True).\n",
            "  warnings.warn(\n",
            "100%|██████████| 5333/5333 [09:14<00:00,  9.61it/s]\n"
          ]
        },
        {
          "output_type": "stream",
          "name": "stdout",
          "text": [
            "Cost at epoch 0 is 0.05017\n"
          ]
        },
        {
          "output_type": "stream",
          "name": "stderr",
          "text": [
            "100%|██████████| 5333/5333 [09:14<00:00,  9.62it/s]\n"
          ]
        },
        {
          "output_type": "stream",
          "name": "stdout",
          "text": [
            "Cost at epoch 1 is 0.04067\n",
            "Got 42357 / 42660 with accuracy 99.29\n"
          ]
        }
      ]
    },
    {
      "cell_type": "code",
      "source": [
        "modelpath=\"/content/drive/MyDrive/MODEL/Model_Check.pt\"\n",
        "torch.save(model,modelpath)"
      ],
      "metadata": {
        "id": "S3xB-gIxh4H0"
      },
      "execution_count": null,
      "outputs": []
    },
    {
      "cell_type": "code",
      "source": [],
      "metadata": {
        "id": "q9iLQc1P1u7t"
      },
      "execution_count": null,
      "outputs": []
    }
  ]
}